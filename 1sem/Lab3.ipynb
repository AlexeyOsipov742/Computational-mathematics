{
 "cells": [
  {
   "cell_type": "markdown",
   "id": "a1e5063e-6cd1-4af6-a27e-cc9dc4330255",
   "metadata": {},
   "source": [
    "<h1 style=\"text-align:center;\">Лабораторная работа №3</h1>\n",
    "\n",
    "<h3 style=\"text-align:center;\">Осипов Алексей Б01-204</h3>\n",
    "\n",
    "**Цель**: Решить заданную НУ и СНУ  следующими методами:\n",
    "\n",
    "1. Метод простой итерации \n",
    "2. Метод Ньютона"
   ]
  },
  {
   "cell_type": "code",
   "execution_count": 4,
   "id": "fd490524-b314-4154-8626-2c687672ac9e",
   "metadata": {},
   "outputs": [],
   "source": [
    "import numpy as np\n",
    "import copy\n",
    "import math\n",
    "import matplotlib.pyplot as plt"
   ]
  },
  {
   "cell_type": "markdown",
   "id": "87b27247-298f-4cda-afa7-b47f7f1282a4",
   "metadata": {},
   "source": [
    "Буду использовать свой метод Гаусса для решения СЛАУ (в методе Ньютона для СНУ) из второй лабы"
   ]
  },
  {
   "cell_type": "code",
   "execution_count": 3,
   "id": "47fccb31-06cc-4cc0-849b-c772ab9aec29",
   "metadata": {},
   "outputs": [],
   "source": [
    "# Вычисление 3й нормы вектора\n",
    "def norm_3(U):\n",
    "    r = 0\n",
    "    for i in range(len(U)):\n",
    "        r += U[i,0] * U[i,0]\n",
    "        \n",
    "    return np.sqrt(r)\n",
    "\n",
    "# Поменять строки\n",
    "def swap_rows(A, i, j):\n",
    "    A[[i, j], :] = A[[j, i], :]\n",
    "\n",
    "# Поменять столбцы\n",
    "def swap_columns(A, i, j):\n",
    "    A[:, [i, j]] = A[:, [j, i]]\n",
    "    \n",
    "#Функция для обмена значений\n",
    "def swap(a,b):\n",
    "    return b,a\n",
    "    \n",
    "# глобальный элемент А\n",
    "def find_main_el(A, iter):\n",
    "    size = A.shape[0]\n",
    "    main_el = A[iter,iter]\n",
    "    i_main = iter\n",
    "    j_main = iter\n",
    "\n",
    "    for i in range(size - iter): \n",
    "        for j in range(size - iter):\n",
    "            if abs(A[i + iter,j + iter]) > abs(main_el):\n",
    "                i_main = i + iter\n",
    "                j_main = j + iter\n",
    "                main_el = A[i_main,j_main]\n",
    "    return [i_main, j_main]\n",
    "\n",
    "def Gauss(a, f):\n",
    "    \n",
    "    A = copy.deepcopy(a)\n",
    "    F = copy.deepcopy(f)\n",
    "    \n",
    "    size = len(A)  # размеры матрицы \n",
    "    \n",
    "    X = np.arange(size) # Массив, чтобы запомнить порядок при смене строк и столбцов - пригодится в конце\n",
    "    U  = np.ones((size, 1)) # массив решений\n",
    "    result = np.ones((size, 1)) # Для ответа\n",
    "\n",
    "    # Прямой ход\n",
    "    for iter in range(size): \n",
    "        \n",
    "        main_ind = find_main_el(A,iter) # Rоординаты главного элемента\n",
    "        main_el = A[main_ind[0], main_ind[1]] # Сам главный элемент\n",
    "        \n",
    "        if(main_ind[0] - iter != 0): # Перестановка строк для главного элемента\n",
    "            swap_rows(A[iter:, iter:], 0, main_ind[0] - iter)\n",
    "            F[iter] = F[main_ind[0]] + F[iter]\n",
    "            F[main_ind[0]] = F[iter] - F[main_ind[0]]\n",
    "            F[iter] = F[iter] - F[main_ind[0]]\n",
    "            \n",
    "        if(main_ind[1] - iter != 0): # Перестановка столбцов для главного элемента\n",
    "            swap_columns(A, iter, main_ind[1])\n",
    "            # swap(X[iter], X[main_ind[1]])\n",
    "            X[iter] = X[main_ind[1]] + X[iter]\n",
    "            X[main_ind[1]] = X[iter] - X[main_ind[1]]\n",
    "            X[iter] = X[iter] - X[main_ind[1]]\n",
    "        \n",
    "        A[iter:, iter:][0] =  A[iter:, iter:][0] / main_el\n",
    "        F[iter] = F[iter] / main_el\n",
    "        \n",
    "        for i in range(size - iter - 1):\n",
    "            F[iter + i + 1] -= (F[iter]  * A[iter:, iter:][i + 1][0])\n",
    "            A[iter:, iter:][i + 1] -= (A[iter:, iter:][0] * A[iter:, iter:][i + 1][0])\n",
    "\n",
    "    # Так как алгоритм не доходит до нижнего углового элемента, делаем его 1\n",
    "    F[-1] /= A[-1, -1]\n",
    "    A[size - 1, size - 1] = 1\n",
    "    \n",
    "    # Обратный ход\n",
    "    for i in range(size-1, -1, -1):\n",
    "        U[i] = F[i]\n",
    "        for j in range(i + 1, size):\n",
    "            U[i] -= U[j] * A[i][j]\n",
    "\n",
    "    for i in range(size):\n",
    "        result[int(X[i])][0] = U[i][0]\n",
    "\n",
    "    return result"
   ]
  },
  {
   "cell_type": "markdown",
   "id": "1c9c2b8c-127b-45e0-8071-2cf8668db0fa",
   "metadata": {},
   "source": [
    "<h3 style=\"text-align:center;\">Решение нелинейных уравнений</h3>"
   ]
  },
  {
   "cell_type": "markdown",
   "id": "e2b49401-bb08-4c95-973e-33dbc8697da7",
   "metadata": {},
   "source": [
    "**1) Метод простой итерации для НУ**"
   ]
  },
  {
   "cell_type": "markdown",
   "id": "bb1d4831-7f99-4e87-b400-ef9a8f708abb",
   "metadata": {},
   "source": [
    "**вариант к)** $x \\cdot 2^x = 1$\n"
   ]
  },
  {
   "cell_type": "code",
   "execution_count": 8,
   "id": "da01d85f-26ae-47e6-8f05-52254b3bebfe",
   "metadata": {},
   "outputs": [],
   "source": [
    "def MPI(f, x0, epsilon):\n",
    "    x = x0\n",
    "    iter = 0\n",
    "    while 1:\n",
    "        fx = f(x)\n",
    "        if abs(x - fx) < epsilon:\n",
    "            return x, iter\n",
    "        x = fx\n",
    "        iter += 1"
   ]
  },
  {
   "cell_type": "markdown",
   "id": "ba4ad7e5-e80c-43ec-bece-5821efb8496f",
   "metadata": {},
   "source": [
    "Посмотрим на сходимость МПИ для разных начальных приближений"
   ]
  },
  {
   "cell_type": "markdown",
   "id": "d34c3c02-2f7e-4418-8456-b7e5689f6d0f",
   "metadata": {},
   "source": [
    "Сначала зададим $f(x) = 2^{-x}$"
   ]
  },
  {
   "cell_type": "code",
   "execution_count": 13,
   "id": "af265281-f731-40f2-bac7-893e5797eaca",
   "metadata": {},
   "outputs": [
    {
     "name": "stdout",
     "output_type": "stream",
     "text": [
      "Тест 1 : Начальное приближение =  0.037 Найденный корень =  0.6411857440233933 Количество итераций =  26\n",
      "Тест 2 : Начальное приближение =  0.1111 Найденный корень =  0.6411857440887926 Количество итераций =  26\n",
      "Тест 3 : Начальное приближение =  0.3333 Найденный корень =  0.6411857450233628 Количество итераций =  25\n",
      "Тест 4 : Начальное приближение =  1 Найденный корень =  0.6411857439900768 Количество итераций =  25\n",
      "Тест 5 : Начальное приближение =  3 Найденный корень =  0.6411857441008676 Количество итераций =  27\n",
      "Тест 6 : Начальное приближение =  9 Найденный корень =  0.6411857439918438 Количество итераций =  27\n",
      "Тест 7 : Начальное приближение =  27 Найденный корень =  0.6411857439900769 Количество итераций =  27\n",
      "Тест 8 : Начальное приближение =  81 Найденный корень =  0.6411857439900768 Количество итераций =  27\n",
      "Тест 9 : Начальное приближение =  243 Найденный корень =  0.6411857439900768 Количество итераций =  27\n"
     ]
    }
   ],
   "source": [
    "def f(x):\n",
    "    return 2**(-x)\n",
    "\n",
    "epsilon = 1.0e-9\n",
    "for i in range(-3, 6, 1): #Взял степени тройки для разных начальных приближений просто так, чтобы числа пострашнее были)\n",
    "    x0 = 3 ** i\n",
    "    mpi = MPI(f, x0, epsilon)\n",
    "    x, iterations = mpi\n",
    "    print(\"Тест\", i+4, \":\", \"Начальное приближение = \", round(x0, 4), \"Найденный корень = \", x, \"Количество итераций = \", iterations)"
   ]
  },
  {
   "cell_type": "markdown",
   "id": "c282c642-fda1-4cdb-bca5-f8d6eb169d9e",
   "metadata": {},
   "source": [
    "Теперь зададим $f(x) = \\log_2\\left(\\frac{1}{x}\\right)$"
   ]
  },
  {
   "cell_type": "code",
   "execution_count": 16,
   "id": "fa0fd9ae-2749-4350-af08-855718a869aa",
   "metadata": {},
   "outputs": [
    {
     "ename": "TypeError",
     "evalue": "unsupported operand type(s) for -: 'float' and 'str'",
     "output_type": "error",
     "traceback": [
      "\u001b[1;31m---------------------------------------------------------------------------\u001b[0m",
      "\u001b[1;31mTypeError\u001b[0m                                 Traceback (most recent call last)",
      "Cell \u001b[1;32mIn[16], line 11\u001b[0m\n\u001b[0;32m      9\u001b[0m \u001b[38;5;28;01mfor\u001b[39;00m i \u001b[38;5;129;01min\u001b[39;00m \u001b[38;5;28mrange\u001b[39m(\u001b[38;5;241m-\u001b[39m\u001b[38;5;241m3\u001b[39m, \u001b[38;5;241m6\u001b[39m, \u001b[38;5;241m1\u001b[39m):\n\u001b[0;32m     10\u001b[0m     x0 \u001b[38;5;241m=\u001b[39m \u001b[38;5;241m3\u001b[39m \u001b[38;5;241m*\u001b[39m\u001b[38;5;241m*\u001b[39m i\n\u001b[1;32m---> 11\u001b[0m     mpi \u001b[38;5;241m=\u001b[39m MPI(f, x0, epsilon)\n\u001b[0;32m     12\u001b[0m     x, iterations \u001b[38;5;241m=\u001b[39m mpi\n\u001b[0;32m     13\u001b[0m     \u001b[38;5;28mprint\u001b[39m(x0, x, iterations)\n",
      "Cell \u001b[1;32mIn[8], line 6\u001b[0m, in \u001b[0;36mMPI\u001b[1;34m(f, x0, epsilon)\u001b[0m\n\u001b[0;32m      4\u001b[0m \u001b[38;5;28;01mwhile\u001b[39;00m \u001b[38;5;241m1\u001b[39m:\n\u001b[0;32m      5\u001b[0m     fx \u001b[38;5;241m=\u001b[39m f(x)\n\u001b[1;32m----> 6\u001b[0m     \u001b[38;5;28;01mif\u001b[39;00m \u001b[38;5;28mabs\u001b[39m(x \u001b[38;5;241m-\u001b[39m fx) \u001b[38;5;241m<\u001b[39m epsilon:\n\u001b[0;32m      7\u001b[0m         \u001b[38;5;28;01mreturn\u001b[39;00m x, \u001b[38;5;28miter\u001b[39m\n\u001b[0;32m      8\u001b[0m     x \u001b[38;5;241m=\u001b[39m fx\n",
      "\u001b[1;31mTypeError\u001b[0m: unsupported operand type(s) for -: 'float' and 'str'"
     ]
    }
   ],
   "source": [
    "def f(x):          #Так как тут у нас x в знаменателе, нужно сделать проверку деления на 0\n",
    "     try:\n",
    "        if x <= 0:\n",
    "            raise ZeroDivisionError(\"Делим на ноль\")\n",
    "        return math.log(1/x, 2)\n",
    "     except ZeroDivisionError as e:\n",
    "        return str(e)\n",
    "epsilon = 1.0e-9\n",
    "for i in range(-3, 6, 1):\n",
    "    x0 = 3 ** i\n",
    "    mpi = MPI(f, x0, epsilon)\n",
    "    x, iterations = mpi\n",
    "    print(x0, x, iterations)"
   ]
  },
  {
   "cell_type": "markdown",
   "id": "89e6e227-ad84-4f19-9417-9494e5cf6318",
   "metadata": {},
   "source": [
    "Эта прога пишет ошибки, т.к. видимо где-то произошло деление на 0, значит мы вышли за область определения функции, значит этот сконструированный МПИ не подходит для поиска корня"
   ]
  },
  {
   "cell_type": "markdown",
   "id": "b6bd4fc0-1867-41e0-8b68-0343f0d1df54",
   "metadata": {},
   "source": [
    "**2) Метод Ньютона для НУ**"
   ]
  },
  {
   "cell_type": "code",
   "execution_count": 18,
   "id": "5efaf77d-106c-4eea-a163-03fb96661f2c",
   "metadata": {},
   "outputs": [],
   "source": [
    "def Newton(f, df, x0, epsilon):\n",
    "    x = x0\n",
    "    for i in range(1000):\n",
    "        dfx = df(x)\n",
    "        if abs(dfx) < 1e-12:  # Проверка на нулевую производную\n",
    "            print(f\"Производная близка к нулю при x = {x}\")\n",
    "            return None, i\n",
    "        x_new = x - f(x) / dfx\n",
    "        if abs(x_new - x) < epsilon:\n",
    "            return x_new, i\n",
    "        x = x_new\n",
    "    return x, i"
   ]
  },
  {
   "cell_type": "markdown",
   "id": "44ad448a-8232-4465-8e2b-ff7b0175e5fe",
   "metadata": {},
   "source": [
    "Посмотрим на сходимость метода Ньютона для разных начальных приближений"
   ]
  },
  {
   "cell_type": "code",
   "execution_count": 21,
   "id": "0e63988a-bfad-4f15-884d-18a7eb3e54ea",
   "metadata": {},
   "outputs": [
    {
     "name": "stdout",
     "output_type": "stream",
     "text": [
      "Начальное приближение =  -1 Найденный корень =  0.641185744504986 Количество итераций =  13\n",
      "Начальное приближение =  -0.95 Найденный корень =  0.641185744504986 Количество итераций =  12\n",
      "Начальное приближение =  -0.9 Найденный корень =  0.641185744504986 Количество итераций =  11\n",
      "Начальное приближение =  -0.85 Найденный корень =  0.641185744504986 Количество итераций =  10\n",
      "Начальное приближение =  -0.8 Найденный корень =  0.641185744504986 Количество итераций =  10\n",
      "Начальное приближение =  -0.75 Найденный корень =  0.641185744504986 Количество итераций =  9\n",
      "Начальное приближение =  -0.7 Найденный корень =  0.641185744504986 Количество итераций =  9\n",
      "Начальное приближение =  -0.65 Найденный корень =  0.641185744504986 Количество итераций =  8\n",
      "Начальное приближение =  -0.6 Найденный корень =  0.641185744504986 Количество итераций =  8\n",
      "Начальное приближение =  -0.55 Найденный корень =  0.641185744504986 Количество итераций =  7\n",
      "Начальное приближение =  -0.5 Найденный корень =  0.641185744504986 Количество итераций =  7\n",
      "Начальное приближение =  -0.45 Найденный корень =  0.641185744504986 Количество итераций =  7\n",
      "Начальное приближение =  -0.4 Найденный корень =  0.641185744504986 Количество итераций =  7\n",
      "Начальное приближение =  -0.35 Найденный корень =  0.6411857445049859 Количество итераций =  6\n",
      "Начальное приближение =  -0.3 Найденный корень =  0.641185744504986 Количество итераций =  6\n",
      "Начальное приближение =  -0.25 Найденный корень =  0.641185744504986 Количество итераций =  6\n",
      "Начальное приближение =  -0.2 Найденный корень =  0.641185744504986 Количество итераций =  6\n",
      "Начальное приближение =  -0.15 Найденный корень =  0.641185744504986 Количество итераций =  6\n",
      "Начальное приближение =  -0.1 Найденный корень =  0.641185744504986 Количество итераций =  5\n",
      "Начальное приближение =  -0.05 Найденный корень =  0.6411857445049859 Количество итераций =  5\n",
      "Начальное приближение =  0.0 Найденный корень =  0.6411857445049859 Количество итераций =  5\n",
      "Начальное приближение =  0.05 Найденный корень =  0.641185744504986 Количество итераций =  5\n",
      "Начальное приближение =  0.1 Найденный корень =  0.641185744504986 Количество итераций =  5\n",
      "Начальное приближение =  0.15 Найденный корень =  0.6411857445049859 Количество итераций =  5\n",
      "Начальное приближение =  0.2 Найденный корень =  0.641185744504986 Количество итераций =  5\n",
      "Начальное приближение =  0.25 Найденный корень =  0.641185744504986 Количество итераций =  4\n",
      "Начальное приближение =  0.3 Найденный корень =  0.641185744504986 Количество итераций =  4\n",
      "Начальное приближение =  0.35 Найденный корень =  0.641185744504986 Количество итераций =  4\n",
      "Начальное приближение =  0.4 Найденный корень =  0.641185744504986 Количество итераций =  4\n",
      "Начальное приближение =  0.45 Найденный корень =  0.641185744504986 Количество итераций =  4\n",
      "Начальное приближение =  0.5 Найденный корень =  0.641185744504986 Количество итераций =  4\n",
      "Начальное приближение =  0.55 Найденный корень =  0.641185744504986 Количество итераций =  3\n",
      "Начальное приближение =  0.6 Найденный корень =  0.641185744504986 Количество итераций =  3\n",
      "Начальное приближение =  0.65 Найденный корень =  0.641185744504986 Количество итераций =  3\n",
      "Начальное приближение =  0.7 Найденный корень =  0.641185744504986 Количество итераций =  3\n",
      "Начальное приближение =  0.75 Найденный корень =  0.641185744504986 Количество итераций =  3\n",
      "Начальное приближение =  0.8 Найденный корень =  0.641185744504986 Количество итераций =  4\n",
      "Начальное приближение =  0.85 Найденный корень =  0.641185744504986 Количество итераций =  4\n",
      "Начальное приближение =  0.9 Найденный корень =  0.641185744504986 Количество итераций =  4\n",
      "Начальное приближение =  0.95 Найденный корень =  0.641185744504986 Количество итераций =  4\n",
      "Начальное приближение =  1.0 Найденный корень =  0.6411857445049859 Количество итераций =  4\n",
      "Начальное приближение =  1.05 Найденный корень =  0.641185744504986 Количество итераций =  4\n",
      "Начальное приближение =  1.1 Найденный корень =  0.6411857445049859 Количество итераций =  4\n",
      "Начальное приближение =  1.15 Найденный корень =  0.641185744504986 Количество итераций =  4\n",
      "Начальное приближение =  1.2 Найденный корень =  0.641185744504986 Количество итераций =  5\n",
      "Начальное приближение =  1.25 Найденный корень =  0.641185744504986 Количество итераций =  5\n",
      "Начальное приближение =  1.3 Найденный корень =  0.641185744504986 Количество итераций =  5\n",
      "Начальное приближение =  1.35 Найденный корень =  0.641185744504986 Количество итераций =  5\n",
      "Начальное приближение =  1.4 Найденный корень =  0.641185744504986 Количество итераций =  5\n",
      "Начальное приближение =  1.45 Найденный корень =  0.641185744504986 Количество итераций =  5\n",
      "Начальное приближение =  1.5 Найденный корень =  0.641185744504986 Количество итераций =  5\n",
      "Начальное приближение =  1.55 Найденный корень =  0.641185744504986 Количество итераций =  5\n",
      "Начальное приближение =  1.6 Найденный корень =  0.6411857445049859 Количество итераций =  5\n",
      "Начальное приближение =  1.65 Найденный корень =  0.6411857445049859 Количество итераций =  5\n",
      "Начальное приближение =  1.7 Найденный корень =  0.641185744504986 Количество итераций =  5\n",
      "Начальное приближение =  1.75 Найденный корень =  0.6411857445049859 Количество итераций =  5\n",
      "Начальное приближение =  1.8 Найденный корень =  0.641185744504986 Количество итераций =  5\n",
      "Начальное приближение =  1.85 Найденный корень =  0.641185744504986 Количество итераций =  6\n",
      "Начальное приближение =  1.9 Найденный корень =  0.641185744504986 Количество итераций =  6\n",
      "Начальное приближение =  1.95 Найденный корень =  0.641185744504986 Количество итераций =  6\n",
      "Начальное приближение =  2.0 Найденный корень =  0.6411857445049859 Количество итераций =  6\n",
      "Начальное приближение =  2.05 Найденный корень =  0.6411857445049859 Количество итераций =  6\n",
      "Начальное приближение =  2.1 Найденный корень =  0.641185744504986 Количество итераций =  6\n",
      "Начальное приближение =  2.15 Найденный корень =  0.641185744504986 Количество итераций =  6\n",
      "Начальное приближение =  2.2 Найденный корень =  0.641185744504986 Количество итераций =  6\n",
      "Начальное приближение =  2.25 Найденный корень =  0.641185744504986 Количество итераций =  6\n",
      "Начальное приближение =  2.3 Найденный корень =  0.641185744504986 Количество итераций =  6\n",
      "Начальное приближение =  2.35 Найденный корень =  0.641185744504986 Количество итераций =  6\n",
      "Начальное приближение =  2.4 Найденный корень =  0.641185744504986 Количество итераций =  6\n",
      "Начальное приближение =  2.45 Найденный корень =  0.6411857445049859 Количество итераций =  6\n",
      "Начальное приближение =  2.5 Найденный корень =  0.6411857445049859 Количество итераций =  6\n",
      "Начальное приближение =  2.55 Найденный корень =  0.641185744504986 Количество итераций =  6\n",
      "Начальное приближение =  2.6 Найденный корень =  0.641185744504986 Количество итераций =  6\n",
      "Начальное приближение =  2.65 Найденный корень =  0.641185744504986 Количество итераций =  6\n",
      "Начальное приближение =  2.7 Найденный корень =  0.641185744504986 Количество итераций =  6\n",
      "Начальное приближение =  2.75 Найденный корень =  0.641185744504986 Количество итераций =  7\n",
      "Начальное приближение =  2.8 Найденный корень =  0.641185744504986 Количество итераций =  7\n",
      "Начальное приближение =  2.85 Найденный корень =  0.641185744504986 Количество итераций =  7\n",
      "Начальное приближение =  2.9 Найденный корень =  0.641185744504986 Количество итераций =  7\n",
      "Начальное приближение =  2.95 Найденный корень =  0.641185744504986 Количество итераций =  7\n",
      "Начальное приближение =  3.0 Найденный корень =  0.641185744504986 Количество итераций =  7\n",
      "Начальное приближение =  3.05 Найденный корень =  0.641185744504986 Количество итераций =  7\n",
      "Начальное приближение =  3.1 Найденный корень =  0.641185744504986 Количество итераций =  7\n",
      "Начальное приближение =  3.15 Найденный корень =  0.641185744504986 Количество итераций =  7\n",
      "Начальное приближение =  3.2 Найденный корень =  0.641185744504986 Количество итераций =  7\n",
      "Начальное приближение =  3.25 Найденный корень =  0.641185744504986 Количество итераций =  7\n",
      "Начальное приближение =  3.3 Найденный корень =  0.6411857445049859 Количество итераций =  7\n",
      "Начальное приближение =  3.35 Найденный корень =  0.641185744504986 Количество итераций =  7\n",
      "Начальное приближение =  3.4 Найденный корень =  0.641185744504986 Количество итераций =  7\n",
      "Начальное приближение =  3.45 Найденный корень =  0.641185744504986 Количество итераций =  7\n",
      "Начальное приближение =  3.5 Найденный корень =  0.641185744504986 Количество итераций =  7\n",
      "Начальное приближение =  3.55 Найденный корень =  0.641185744504986 Количество итераций =  7\n",
      "Начальное приближение =  3.6 Найденный корень =  0.641185744504986 Количество итераций =  7\n",
      "Начальное приближение =  3.65 Найденный корень =  0.641185744504986 Количество итераций =  7\n",
      "Начальное приближение =  3.7 Найденный корень =  0.6411857445049861 Количество итераций =  7\n",
      "Начальное приближение =  3.75 Найденный корень =  0.641185744504986 Количество итераций =  7\n",
      "Начальное приближение =  3.8 Найденный корень =  0.641185744504986 Количество итераций =  8\n",
      "Начальное приближение =  3.85 Найденный корень =  0.641185744504986 Количество итераций =  8\n",
      "Начальное приближение =  3.9 Найденный корень =  0.641185744504986 Количество итераций =  8\n",
      "Начальное приближение =  3.95 Найденный корень =  0.641185744504986 Количество итераций =  8\n",
      "Начальное приближение =  4.0 Найденный корень =  0.641185744504986 Количество итераций =  8\n",
      "Начальное приближение =  4.05 Найденный корень =  0.641185744504986 Количество итераций =  8\n",
      "Начальное приближение =  4.1 Найденный корень =  0.641185744504986 Количество итераций =  8\n",
      "Начальное приближение =  4.15 Найденный корень =  0.641185744504986 Количество итераций =  8\n",
      "Начальное приближение =  4.2 Найденный корень =  0.641185744504986 Количество итераций =  8\n",
      "Начальное приближение =  4.25 Найденный корень =  0.641185744504986 Количество итераций =  8\n",
      "Начальное приближение =  4.3 Найденный корень =  0.6411857445049859 Количество итераций =  8\n",
      "Начальное приближение =  4.35 Найденный корень =  0.641185744504986 Количество итераций =  8\n",
      "Начальное приближение =  4.4 Найденный корень =  0.641185744504986 Количество итераций =  8\n",
      "Начальное приближение =  4.45 Найденный корень =  0.6411857445049859 Количество итераций =  8\n",
      "Начальное приближение =  4.5 Найденный корень =  0.641185744504986 Количество итераций =  8\n",
      "Начальное приближение =  4.55 Найденный корень =  0.6411857445049859 Количество итераций =  8\n",
      "Начальное приближение =  4.6 Найденный корень =  0.6411857445049859 Количество итераций =  8\n",
      "Начальное приближение =  4.65 Найденный корень =  0.641185744504986 Количество итераций =  8\n",
      "Начальное приближение =  4.7 Найденный корень =  0.6411857445049859 Количество итераций =  8\n",
      "Начальное приближение =  4.75 Найденный корень =  0.6411857445049859 Количество итераций =  8\n",
      "Начальное приближение =  4.8 Найденный корень =  0.641185744504986 Количество итераций =  8\n",
      "Начальное приближение =  4.85 Найденный корень =  0.641185744504986 Количество итераций =  8\n",
      "Начальное приближение =  4.9 Найденный корень =  0.641185744504986 Количество итераций =  9\n",
      "Начальное приближение =  4.95 Найденный корень =  0.641185744504986 Количество итераций =  9\n",
      "Начальное приближение =  5.0 Найденный корень =  0.641185744504986 Количество итераций =  9\n"
     ]
    }
   ],
   "source": [
    "def f(x):\n",
    "    return x*2**x-1\n",
    "\n",
    "def df(x):\n",
    "    return (math.log(2)*x + 1)*(2**x)\n",
    "\n",
    "epsilon = 1.0e-9\n",
    "x0_nwt = []\n",
    "iter_nwt = []\n",
    "x0 = -1\n",
    "while x0 < 5:\n",
    "    nwt = Newton(f, df, x0, epsilon)\n",
    "    if nwt[0] is not None:\n",
    "        x, iterations = nwt[0], nwt[1]\n",
    "        print(\"Начальное приближение = \", round(x0, 4), \"Найденный корень = \", x, \"Количество итераций = \", iterations)\n",
    "    else:\n",
    "        print(\"Не удалось найти корень для x0 =\", round(x0, 4)) # Если поставить начальное приближение больше -1.4, тогда корень не найдётся\n",
    "    x0 += 0.05                                                  # Я поставил такое, чтобы корни находились, и получился красивый график)\n",
    "    x0_nwt.append(x0)\n",
    "    iter_nwt.append(iterations)"
   ]
  },
  {
   "cell_type": "code",
   "execution_count": 23,
   "id": "53de48f5-1d38-4f3b-b650-0d9c281afa95",
   "metadata": {},
   "outputs": [
    {
     "data": {
      "image/png": "[encoded data removed]",
      "text/plain": [
       "<Figure size 800x400 with 1 Axes>"
      ]
     },
     "metadata": {},
     "output_type": "display_data"
    }
   ],
   "source": [
    "plt.figure(figsize = [8,4])\n",
    "\n",
    "plt.plot(x0_nwt, iter_nwt, label = \"Метод Ньютона для f = x*2**x-1\")\n",
    "plt.xlabel('Начальное приближение')\n",
    "plt.ylabel('Количество итераций')\n",
    "plt.legend()\n",
    "plt.grid()\n",
    "plt.show()"
   ]
  },
  {
   "cell_type": "markdown",
   "id": "79664e2a-4335-45ca-b616-fe07e97405e2",
   "metadata": {},
   "source": [
    "Получается, что чем ближе начальное приближение к искомому корню, тем меньше итераций - логично :)"
   ]
  },
  {
   "cell_type": "markdown",
   "id": "42190538-fe23-430b-bdb8-8d7ea590a03d",
   "metadata": {},
   "source": [
    "<h3 style=\"text-align:center;\">Решение систем нелинейных уравнений</h3>"
   ]
  },
  {
   "cell_type": "markdown",
   "id": "1fe73563-4596-4193-9d5c-460ffcf7237e",
   "metadata": {},
   "source": [
    "**1) Метод простой итерации для СНУ**"
   ]
  },
  {
   "cell_type": "markdown",
   "id": "9cc6ac9d-050a-47cd-adda-c6f51d76bb69",
   "metadata": {},
   "source": [
    "**вариант в)** \n",
    "$$\n",
    "\\cos(x-1) + y = 0.5\n",
    "$$\n",
    "$$\n",
    "x - \\cos y = 3\n",
    "$$"
   ]
  },
  {
   "cell_type": "code",
   "execution_count": 38,
   "id": "28ddd01e-5289-412f-9b96-ee0ef9393f6c",
   "metadata": {},
   "outputs": [],
   "source": [
    "def MPI_SNU(fx, fy, x0, y0, epsilon=1e-6, max_iter = 100):\n",
    "    x = x0\n",
    "    y = y0\n",
    "    iter = 0\n",
    "\n",
    "    while iter < max_iter:\n",
    "        try:\n",
    "            f_x = fx(x, y)\n",
    "            f_y = fy(x)\n",
    "            \n",
    "            # Критерий остановки\n",
    "            if (abs(x - f_x) < epsilon) and (abs(y - f_y) < epsilon):\n",
    "                return x, y, iter \n",
    "                \n",
    "            x = f_x\n",
    "            y = f_y\n",
    "        \n",
    "        except ValueError as e:\n",
    "            print(f\"Ошибка на итерации {iter + 1}: {e}\")\n",
    "            break\n",
    "        \n",
    "        iter += 1\n",
    "    \n",
    "    print(\"Превышено максимально допустимое количество итераций.\")\n",
    "    return x, y, iter\n"
   ]
  },
  {
   "cell_type": "code",
   "execution_count": 40,
   "id": "d8a40432-c882-461a-af4e-e87f73894c0b",
   "metadata": {},
   "outputs": [],
   "source": [
    "def fx(x, y):\n",
    "    return  5 * x**2 * y**4 - 1510\n",
    "\n",
    "def fy(x):\n",
    "    return 0.5 - np.cos(x-1)"
   ]
  },
  {
   "cell_type": "code",
   "execution_count": 42,
   "id": "c890cd6e-a220-435f-a284-e41b2972c534",
   "metadata": {
    "scrolled": true
   },
   "outputs": [
    {
     "name": "stdout",
     "output_type": "stream",
     "text": [
      "Начальное приближение: x0 =  0 y0 =  -2\n",
      "Найденные корни: x =  3.355911257980035 y =  1.2069072863836394 Количество итераций =  68\n",
      "\n",
      "Начальное приближение: x0 =  0.2 y0 =  -1.8\n",
      "Найденные корни: x =  3.355911262476491 y =  1.2069072257146085 Количество итераций =  68\n",
      "\n",
      "Начальное приближение: x0 =  0.4 y0 =  -1.6\n",
      "Найденные корни: x =  3.355912445154047 y =  1.2069063602134864 Количество итераций =  66\n",
      "\n",
      "Начальное приближение: x0 =  0.6 y0 =  -1.4\n",
      "Найденные корни: x =  3.355912427114542 y =  1.2069065834764816 Количество итераций =  66\n",
      "\n",
      "Начальное приближение: x0 =  0.8 y0 =  -1.2\n",
      "Найденные корни: x =  3.3559117501763707 y =  1.2069060973145054 Количество итераций =  65\n",
      "\n",
      "Начальное приближение: x0 =  1.0 y0 =  -1.0\n",
      "Найденные корни: x =  3.3559120420848094 y =  1.2069061037175683 Количество итераций =  65\n",
      "\n",
      "Начальное приближение: x0 =  1.2 y0 =  -0.8\n",
      "Найденные корни: x =  3.3559114033828124 y =  1.2069072935631922 Количество итераций =  67\n",
      "\n",
      "Начальное приближение: x0 =  1.4 y0 =  -0.6\n",
      "Найденные корни: x =  3.355911322653054 y =  1.2069073043455965 Количество итераций =  67\n",
      "\n",
      "Начальное приближение: x0 =  1.6 y0 =  -0.4\n",
      "Найденные корни: x =  3.355911280818693 y =  1.20690731710505 Количество итераций =  67\n",
      "\n",
      "Начальное приближение: x0 =  1.8 y0 =  -0.2\n",
      "Найденные корни: x =  3.355911262644575 y =  1.206907327244628 Количество итераций =  67\n",
      "\n"
     ]
    }
   ],
   "source": [
    "epsilon = 1e-6\n",
    "x_snu = []\n",
    "y_snu = []\n",
    "iter_snu = []\n",
    "x0 = 0\n",
    "y0 = -2\n",
    "for i in range(10):\n",
    "    x_root, y_root, iterations = MPI_SNU(fx, fy, x0, y0, epsilon, 1000)\n",
    "    x_snu.append(x0)\n",
    "    y_snu.append(y0)\n",
    "    iter_snu.append(iterations)\n",
    "    print(\"Начальное приближение:\", \"x0 = \", round(x0, 1), \"y0 = \", round(y0, 1))\n",
    "    print(\"Найденные корни:\", \"x = \", x_root, \"y = \", y_root, \"Количество итераций = \", iterations)\n",
    "    print()\n",
    "    x0 += 0.2\n",
    "    y0 += 0.2"
   ]
  },
  {
   "cell_type": "code",
   "execution_count": 35,
   "id": "67458e1a-2332-406e-ab0a-9238dfdf9f7a",
   "metadata": {},
   "outputs": [
    {
     "data": {
      "image/png": "[encoded data removed]",
      "text/plain": [
       "<Figure size 800x400 with 1 Axes>"
      ]
     },
     "metadata": {},
     "output_type": "display_data"
    }
   ],
   "source": [
    "plt.figure(figsize = [8,4])\n",
    "\n",
    "plt.plot(x_snu, iter_snu, label = \"МПИ, x\")\n",
    "plt.plot(y_snu, iter_snu, label = \"МПИ, y\")\n",
    "plt.xlabel('Начальное приближение')\n",
    "plt.ylabel('Количество итераций')\n",
    "plt.legend()\n",
    "plt.grid()\n",
    "plt.show()"
   ]
  },
  {
   "cell_type": "markdown",
   "id": "80949a62-2423-4786-bb34-c99aa66c7416",
   "metadata": {},
   "source": [
    "Вот графики моих уравнений"
   ]
  },
  {
   "cell_type": "markdown",
   "id": "f2023ead-603e-4dfa-b47f-b8fa311bd3c8",
   "metadata": {},
   "source": [
    "<img src=\"lab3_1.jpg\" alt=\"drawing\" width=\"1000\"/>"
   ]
  },
  {
   "cell_type": "markdown",
   "id": "fc7ef9ed-8dbb-4806-b45a-ca40f827be22",
   "metadata": {},
   "source": [
    "**2) Метод Ньютона для СНУ**"
   ]
  },
  {
   "cell_type": "code",
   "execution_count": 40,
   "id": "2ae74bb8-bc7a-43a1-ba63-a51acf0ad6cb",
   "metadata": {},
   "outputs": [],
   "source": [
    "def Newton_SNU(f1, f2, J, x0, y0, epsilon=1e-6, max_iter=100, lambda_=0.5):\n",
    "    x, y = x0, y0\n",
    "    \n",
    "    for iter_count in range(max_iter):\n",
    "        F = np.array([f1(x, y), f2(x, y)])\n",
    "        delta = Gauss(J(x, y), F) # Мой Гаусс\n",
    "        \n",
    "        x_new = x - lambda_ * delta[0][0]  # [0][0] - это первый элемент в столбце\n",
    "        y_new = y - lambda_ * delta[1][0]  # [1][0] - это второй элемент в столбце\n",
    "        \n",
    "        if np.sqrt((x_new - x)**2 + (y_new - y)**2) < epsilon:\n",
    "            return x_new, y_new, iter_count + 1\n",
    "        \n",
    "        x, y = x_new, y_new\n",
    "    return x, y, iter_count + 1"
   ]
  },
  {
   "cell_type": "code",
   "execution_count": 42,
   "id": "c3f9f4eb-d2e2-4f31-9c76-1028e34c75df",
   "metadata": {},
   "outputs": [],
   "source": [
    "def f1(x, y):\n",
    "    #return np.cos(y) + 3 - x \n",
    "    return x**7 - 5 * x**2 * y**4 + 1510\n",
    "def f2(x, y):\n",
    "   #return 0.5 - np.cos(x-1) - y\n",
    "    return y**3 - 3 * x**4 * y - 105\n",
    "\n",
    "def J(x, y):        # Якобиан\n",
    "    #return np.array([\n",
    "    #    [-1, -np.sin(y)],\n",
    "    #    [np.sin(x-1), -1]\n",
    "    #])\n",
    "    return np.array([\n",
    "        [7 * x**6 - 10 * x * y**4, -20 * x**2 * y**3],\n",
    "        [-12 * x**3 * y, 3 * y**2 - 3 * x**4]\n",
    "    ])"
   ]
  },
  {
   "cell_type": "code",
   "execution_count": 44,
   "id": "12131fde-7dc4-43f5-92d0-805e1e8474cc",
   "metadata": {},
   "outputs": [
    {
     "name": "stdout",
     "output_type": "stream",
     "text": [
      "Начальное приближение: x0 =  2 y0 =  0\n",
      "Найденные корни: x =  1.9548804572276726 y =  -3.0340029252088683 Количество итераций =  72\n",
      "\n",
      "Начальное приближение: x0 =  2.2 y0 =  0.2\n",
      "Найденные корни: x =  -2.84448022748279 y =  -0.5354151304247843 Количество итераций =  63\n",
      "\n",
      "Начальное приближение: x0 =  2.4 y0 =  0.4\n",
      "Найденные корни: x =  -2.8444802040587485 y =  -0.5354151032148149 Количество итераций =  24\n",
      "\n",
      "Начальное приближение: x0 =  2.6 y0 =  0.6\n",
      "Найденные корни: x =  1.9548805046922737 y =  -3.034002987042573 Количество итераций =  96\n",
      "\n",
      "Начальное приближение: x0 =  2.8 y0 =  0.8\n",
      "Найденные корни: x =  -0.758103746430041 y =  4.787702031213001 Количество итераций =  33\n",
      "\n",
      "Начальное приближение: x0 =  3.0 y0 =  1.0\n",
      "Найденные корни: x =  0.7581687842859098 y =  4.787726643463693 Количество итераций =  51\n",
      "\n",
      "Начальное приближение: x0 =  3.2 y0 =  1.2\n",
      "Найденные корни: x =  -0.7581035180711483 y =  4.787702079211271 Количество итераций =  25\n",
      "\n",
      "Начальное приближение: x0 =  3.4 y0 =  1.4\n",
      "Найденные корни: x =  -0.7581042437112336 y =  4.787702678544768 Количество итераций =  45\n",
      "\n",
      "Начальное приближение: x0 =  3.6 y0 =  1.6\n",
      "Найденные корни: x =  1.9548803817165519 y =  -3.0340041657273504 Количество итераций =  65\n",
      "\n",
      "Начальное приближение: x0 =  3.8 y0 =  1.8\n",
      "Найденные корни: x =  -0.7581039029880929 y =  4.787702085169713 Количество итераций =  34\n",
      "\n",
      "Начальное приближение: x0 =  4.0 y0 =  2.0\n",
      "Найденные корни: x =  -0.7581041694014229 y =  4.7877027512848525 Количество итераций =  58\n",
      "\n",
      "Начальное приближение: x0 =  4.2 y0 =  2.2\n",
      "Найденные корни: x =  -0.7581032190961954 y =  4.787703386843108 Количество итераций =  32\n",
      "\n",
      "Начальное приближение: x0 =  4.4 y0 =  2.4\n",
      "Найденные корни: x =  -2.844480220180839 y =  -0.5354151125205612 Количество итераций =  56\n",
      "\n",
      "Начальное приближение: x0 =  4.6 y0 =  2.6\n",
      "Найденные корни: x =  -15.036290886295248 y =  -0.0006119063717433363 Количество итераций =  100\n",
      "\n",
      "Начальное приближение: x0 =  4.8 y0 =  2.8\n",
      "Найденные корни: x =  -2.8444799127579095 y =  -0.5354154092067167 Количество итераций =  48\n",
      "\n"
     ]
    }
   ],
   "source": [
    "epsilon = 1e-6\n",
    "x_snu = []\n",
    "y_snu = []\n",
    "iter_snu = []\n",
    "x0 = 2\n",
    "y0 = 0\n",
    "for i in range(15):\n",
    "    x_root, y_root, iterations = Newton_SNU(f1, f2, J, x0, y0)\n",
    "    x_snu.append(x0)\n",
    "    y_snu.append(y0)\n",
    "    iter_snu.append(iterations)\n",
    "    print(\"Начальное приближение:\", \"x0 = \", round(x0, 1), \"y0 = \", round(y0, 1))\n",
    "    print(\"Найденные корни:\", \"x = \", x_root, \"y = \", y_root, \"Количество итераций = \", iterations)\n",
    "    print()\n",
    "    x0 += 0.2\n",
    "    y0 += 0.2"
   ]
  },
  {
   "cell_type": "code",
   "execution_count": 46,
   "id": "23ba0d97-ca73-4c52-91f8-33dac3f82208",
   "metadata": {},
   "outputs": [
    {
     "data": {
      "image/png": "[encoded data removed]",
      "text/plain": [
       "<Figure size 800x400 with 1 Axes>"
      ]
     },
     "metadata": {},
     "output_type": "display_data"
    }
   ],
   "source": [
    "plt.figure(figsize = [8,4])\n",
    "\n",
    "plt.plot(x_snu, iter_snu, label = \"Ньютон, x\")\n",
    "plt.plot(y_snu, iter_snu, label = \"Ньютон, y\")\n",
    "plt.xlabel('Начальное приближение')\n",
    "plt.ylabel('Количество итераций')\n",
    "plt.legend()\n",
    "plt.grid()\n",
    "plt.show()"
   ]
  },
  {
   "cell_type": "markdown",
   "id": "95ab4fed-dd88-447e-bb23-e1994eb421d1",
   "metadata": {},
   "source": [
    "Тут как и везде - чем ближе начальное приближение к корню, тем меньше итераций"
   ]
  },
  {
   "cell_type": "markdown",
   "id": "49f30186-eff6-45c7-8f1a-9d18d53b2a9c",
   "metadata": {},
   "source": [
    " Собственный Гаусс отработал на ура &#x1F60E;"
   ]
  }
 ],
 "metadata": {
  "kernelspec": {
   "display_name": "Python 3 (ipykernel)",
   "language": "python",
   "name": "python3"
  },
  "language_info": {
   "codemirror_mode": {
    "name": "ipython",
    "version": 3
   },
   "file_extension": ".py",
   "mimetype": "text/x-python",
   "name": "python",
   "nbconvert_exporter": "python",
   "pygments_lexer": "ipython3",
   "version": "3.12.4"
  }
 },
 "nbformat": 4,
 "nbformat_minor": 5
}
