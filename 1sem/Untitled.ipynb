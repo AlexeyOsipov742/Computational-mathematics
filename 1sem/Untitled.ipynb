{
 "cells": [
  {
   "cell_type": "markdown",
   "id": "a1e5063e-6cd1-4af6-a27e-cc9dc4330255",
   "metadata": {},
   "source": [
    "<h1 style=\"text-align:center;\">Лабораторная работа №2</h1>\n",
    "\n",
    "<h3 style=\"text-align:center;\">Осипов Алексей Б01-204</h3>\n",
    "\n",
    "**Цель**: Решить заданную НУ и СНУ  следующими методами:\n",
    "\n",
    "1. Метод простой итерации \n",
    "2. Метод Ньютона"
   ]
  },
  {
   "cell_type": "code",
   "execution_count": null,
   "id": "fd490524-b314-4154-8626-2c687672ac9e",
   "metadata": {},
   "outputs": [],
   "source": [
    "import numpy as np\n",
    "import time\n",
    "import math\n",
    "import matplotlib.pyplot as plt"
   ]
  },
  {
   "cell_type": "markdown",
   "id": "87b27247-298f-4cda-afa7-b47f7f1282a4",
   "metadata": {},
   "source": [
    "Буду использовать свой метод Гаусса для решения СЛАУ (в методе Ньютона для СНУ) из второй лабы"
   ]
  },
  {
   "cell_type": "code",
   "execution_count": null,
   "id": "47fccb31-06cc-4cc0-849b-c772ab9aec29",
   "metadata": {},
   "outputs": [],
   "source": [
    "# Вычисление 3й нормы вектора\n",
    "def norm_3(U):\n",
    "    r = 0\n",
    "    for i in range(len(U)):\n",
    "        r += U[i,0] * U[i,0]\n",
    "        \n",
    "    return np.sqrt(r)\n",
    "\n",
    "# Поменять строки\n",
    "def swap_rows(A, i, j):\n",
    "    A[[i, j], :] = A[[j, i], :]\n",
    "\n",
    "# Поменять столбцы\n",
    "def swap_columns(A, i, j):\n",
    "    A[:, [i, j]] = A[:, [j, i]]\n",
    "    \n",
    "#Функция для обмена значений\n",
    "def swap(a,b):\n",
    "    return b,a\n",
    "    \n",
    "# глобальный элемент А\n",
    "def find_main_el(A, iter):\n",
    "    size = A.shape[0]\n",
    "    main_el = A[iter,iter]\n",
    "    i_main = iter\n",
    "    j_main = iter\n",
    "\n",
    "    for i in range(size - iter): \n",
    "        for j in range(size - iter):\n",
    "            if abs(A[i + iter,j + iter]) > abs(main_el):\n",
    "                i_main = i + iter\n",
    "                j_main = j + iter\n",
    "                main_el = A[i_main,j_main]\n",
    "    return [i_main, j_main]\n",
    "\n",
    "def Gauss(a, f):\n",
    "    \n",
    "    A = copy.deepcopy(a)\n",
    "    F = copy.deepcopy(f)\n",
    "    \n",
    "    size = len(A)  # размеры матрицы \n",
    "    \n",
    "    X = np.arange(size) # Массив, чтобы запомнить порядок при смене строк и столбцов - пригодится в конце\n",
    "    U  = np.ones((size, 1)) # массив решений\n",
    "    result = np.ones((size, 1)) # Для ответа\n",
    "\n",
    "    # Прямой ход\n",
    "    for iter in range(size): \n",
    "        \n",
    "        main_ind = find_main_el(A,iter) # Rоординаты главного элемента\n",
    "        main_el = A[main_ind[0], main_ind[1]] # Сам главный элемент\n",
    "        \n",
    "        if(main_ind[0] - iter != 0): # Перестановка строк для главного элемента\n",
    "            swap_rows(A[iter:, iter:], 0, main_ind[0] - iter)\n",
    "            F[iter] = F[main_ind[0]] + F[iter]\n",
    "            F[main_ind[0]] = F[iter] - F[main_ind[0]]\n",
    "            F[iter] = F[iter] - F[main_ind[0]]\n",
    "            \n",
    "        if(main_ind[1] - iter != 0): # Перестановка столбцов для главного элемента\n",
    "            swap_columns(A, iter, main_ind[1])\n",
    "            # swap(X[iter], X[main_ind[1]])\n",
    "            X[iter] = X[main_ind[1]] + X[iter]\n",
    "            X[main_ind[1]] = X[iter] - X[main_ind[1]]\n",
    "            X[iter] = X[iter] - X[main_ind[1]]\n",
    "        \n",
    "        A[iter:, iter:][0] =  A[iter:, iter:][0] / main_el\n",
    "        F[iter] = F[iter] / main_el\n",
    "        \n",
    "        for i in range(size - iter - 1):\n",
    "            F[iter + i + 1] -= (F[iter]  * A[iter:, iter:][i + 1][0])\n",
    "            A[iter:, iter:][i + 1] -= (A[iter:, iter:][0] * A[iter:, iter:][i + 1][0])\n",
    "\n",
    "    # Так как алгоритм не доходит до нижнего углового элемента, делаем его 1\n",
    "    F[-1] /= A[-1, -1]\n",
    "    A[size - 1, size - 1] = 1\n",
    "    \n",
    "    # Обратный ход\n",
    "    for i in range(size-1, -1, -1):\n",
    "        U[i] = F[i]\n",
    "        for j in range(i + 1, size):\n",
    "            U[i] -= U[j] * A[i][j]\n",
    "\n",
    "    for i in range(size):\n",
    "        result[int(X[i])][0] = U[i][0]\n",
    "\n",
    "    return result"
   ]
  },
  {
   "cell_type": "markdown",
   "id": "1c9c2b8c-127b-45e0-8071-2cf8668db0fa",
   "metadata": {},
   "source": [
    "<h3 style=\"text-align:center;\">Решение нелинейных уравнений</h3>"
   ]
  },
  {
   "cell_type": "markdown",
   "id": "e2b49401-bb08-4c95-973e-33dbc8697da7",
   "metadata": {},
   "source": [
    "**1) Метод простой итерации для НУ**"
   ]
  },
  {
   "cell_type": "markdown",
   "id": "bb1d4831-7f99-4e87-b400-ef9a8f708abb",
   "metadata": {},
   "source": [
    "**вариант к)** $x \\cdot 2^x = 1$\n"
   ]
  },
  {
   "cell_type": "code",
   "execution_count": null,
   "id": "da01d85f-26ae-47e6-8f05-52254b3bebfe",
   "metadata": {},
   "outputs": [],
   "source": [
    "def MPI(f, x0, epsilon):\n",
    "    x = x0\n",
    "    iter = 0\n",
    "    while 1:\n",
    "        fx = f(x)\n",
    "        if abs(x - fx) < epsilon:\n",
    "            return x, iter\n",
    "        x = fx\n",
    "        iter += 1"
   ]
  },
  {
   "cell_type": "markdown",
   "id": "ba4ad7e5-e80c-43ec-bece-5821efb8496f",
   "metadata": {},
   "source": [
    "Посмотрим на сходимость МПИ для разных начальных приближений"
   ]
  },
  {
   "cell_type": "markdown",
   "id": "d34c3c02-2f7e-4418-8456-b7e5689f6d0f",
   "metadata": {},
   "source": [
    "Сначала зададим $f(x) = 2^{-x}$"
   ]
  },
  {
   "cell_type": "code",
   "execution_count": null,
   "id": "af265281-f731-40f2-bac7-893e5797eaca",
   "metadata": {},
   "outputs": [],
   "source": [
    "def f(x):\n",
    "    return 2**(-x)\n",
    "\n",
    "epsilon = 1.0e-9\n",
    "for i in range(-3, 6, 1): #Взял степени тройки для разных начальных приближений просто так, чтобы числа пострашнее были)\n",
    "    x0 = 3 ** i\n",
    "    mpi = MPI(f, x0, epsilon)\n",
    "    x, iterations = mpi\n",
    "    iter1.append(iterations)\n",
    "    print(\"Тест\", i+4, \":\", \"Начальное приближение = \", round(x0, 4), \"Найденный корень = \", x, \"Количество итераций = \", iterations)"
   ]
  },
  {
   "cell_type": "markdown",
   "id": "c282c642-fda1-4cdb-bca5-f8d6eb169d9e",
   "metadata": {},
   "source": [
    "Теперь зададим $f(x) = \\log_2\\left(\\frac{1}{x}\\right)$"
   ]
  },
  {
   "cell_type": "code",
   "execution_count": 137,
   "id": "fa0fd9ae-2749-4350-af08-855718a869aa",
   "metadata": {},
   "outputs": [
    {
     "ename": "ZeroDivisionError",
     "evalue": "Делим на ноль",
     "output_type": "error",
     "traceback": [
      "\u001b[1;31m---------------------------------------------------------------------------\u001b[0m",
      "\u001b[1;31mZeroDivisionError\u001b[0m                         Traceback (most recent call last)",
      "Cell \u001b[1;32mIn[137], line 8\u001b[0m\n\u001b[0;32m      6\u001b[0m \u001b[38;5;28;01mfor\u001b[39;00m i \u001b[38;5;129;01min\u001b[39;00m \u001b[38;5;28mrange\u001b[39m(\u001b[38;5;241m-\u001b[39m\u001b[38;5;241m3\u001b[39m, \u001b[38;5;241m6\u001b[39m, \u001b[38;5;241m1\u001b[39m):\n\u001b[0;32m      7\u001b[0m     x0 \u001b[38;5;241m=\u001b[39m \u001b[38;5;241m3\u001b[39m \u001b[38;5;241m*\u001b[39m\u001b[38;5;241m*\u001b[39m i\n\u001b[1;32m----> 8\u001b[0m     mpi \u001b[38;5;241m=\u001b[39m MPI(f, x0, epsilon)\n\u001b[0;32m      9\u001b[0m     x, iterations \u001b[38;5;241m=\u001b[39m mpi\n\u001b[0;32m     10\u001b[0m     \u001b[38;5;28mprint\u001b[39m(x0, x, iterations)\n",
      "Cell \u001b[1;32mIn[118], line 5\u001b[0m, in \u001b[0;36mMPI\u001b[1;34m(f, x0, epsilon)\u001b[0m\n\u001b[0;32m      3\u001b[0m \u001b[38;5;28miter\u001b[39m \u001b[38;5;241m=\u001b[39m \u001b[38;5;241m0\u001b[39m\n\u001b[0;32m      4\u001b[0m \u001b[38;5;28;01mwhile\u001b[39;00m \u001b[38;5;241m1\u001b[39m:\n\u001b[1;32m----> 5\u001b[0m     fx \u001b[38;5;241m=\u001b[39m f(x) \n\u001b[0;32m      6\u001b[0m     \u001b[38;5;28;01mif\u001b[39;00m \u001b[38;5;28mabs\u001b[39m(x \u001b[38;5;241m-\u001b[39m fx) \u001b[38;5;241m<\u001b[39m epsilon:\n\u001b[0;32m      7\u001b[0m         \u001b[38;5;28;01mreturn\u001b[39;00m x, \u001b[38;5;28miter\u001b[39m\n",
      "Cell \u001b[1;32mIn[137], line 3\u001b[0m, in \u001b[0;36mf\u001b[1;34m(x)\u001b[0m\n\u001b[0;32m      1\u001b[0m \u001b[38;5;28;01mdef\u001b[39;00m \u001b[38;5;21mf\u001b[39m(x):          \u001b[38;5;66;03m#Так как тут у нас x в знаменателе, нужно сделать проверку деления на 0\u001b[39;00m\n\u001b[0;32m      2\u001b[0m     \u001b[38;5;28;01mif\u001b[39;00m x \u001b[38;5;241m<\u001b[39m\u001b[38;5;241m=\u001b[39m \u001b[38;5;241m0\u001b[39m:\n\u001b[1;32m----> 3\u001b[0m         \u001b[38;5;28;01mraise\u001b[39;00m \u001b[38;5;167;01mZeroDivisionError\u001b[39;00m(\u001b[38;5;124m\"\u001b[39m\u001b[38;5;124mДелим на ноль\u001b[39m\u001b[38;5;124m\"\u001b[39m)\n\u001b[0;32m      4\u001b[0m     \u001b[38;5;28;01mreturn\u001b[39;00m math\u001b[38;5;241m.\u001b[39mlog(\u001b[38;5;241m1\u001b[39m \u001b[38;5;241m/\u001b[39m x, \u001b[38;5;241m2\u001b[39m)\n",
      "\u001b[1;31mZeroDivisionError\u001b[0m: Делим на ноль"
     ]
    }
   ],
   "source": [
    "def f(x):          #Так как тут у нас x в знаменателе, нужно сделать проверку деления на 0\n",
    "    if x <= 0:\n",
    "        raise ZeroDivisionError(\"Делим на ноль\")\n",
    "    return math.log(1 / x, 2)\n",
    "epsilon = 1.0e-9\n",
    "for i in range(-3, 6, 1):\n",
    "    x0 = 3 ** i\n",
    "    mpi = MPI(f, x0, epsilon)\n",
    "    x, iterations = mpi\n",
    "    print(x0, x, iterations)"
   ]
  },
  {
   "cell_type": "code",
   "execution_count": null,
   "id": "b0c3d994-fc9d-4aed-87c4-d3dca299266b",
   "metadata": {},
   "outputs": [],
   "source": []
  }
 ],
 "metadata": {
  "kernelspec": {
   "display_name": "Python 3 (ipykernel)",
   "language": "python",
   "name": "python3"
  },
  "language_info": {
   "codemirror_mode": {
    "name": "ipython",
    "version": 3
   },
   "file_extension": ".py",
   "mimetype": "text/x-python",
   "name": "python",
   "nbconvert_exporter": "python",
   "pygments_lexer": "ipython3",
   "version": "3.12.4"
  }
 },
 "nbformat": 4,
 "nbformat_minor": 5
}
