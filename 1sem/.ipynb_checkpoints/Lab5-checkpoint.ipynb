{
 "cells": [
  {
   "cell_type": "markdown",
   "id": "eb946bf4-cf78-4a59-b04c-f45403bc5fb4",
   "metadata": {},
   "source": [
    "<h1 stfle=\"text-align:center;\">Лабораторная работа №5</h1>\n",
    "\n",
    "<h3 stfle=\"text-align:center;\">Осипов Алексей Б01-204</h3>\n",
    "\n",
    "**Цель**: для функции, заданной таблично, вычислить значение определённого интеграла методом трапеций, сделать уточнение результата по правилу Рунге. Сравнить уточнённый результат с результатом вычислений по формуле Симпсона. \n"
   ]
  },
  {
   "cell_type": "markdown",
   "id": "b79a2e50-353c-4f79-93e5-437b8d79b250",
   "metadata": {},
   "source": [
    "В качестве данных я выбрал **вариант д)**\n",
    "| x     | f(x)    |\n",
    "|-------|---------|\n",
    "| 0.0   | 0.000000|\n",
    "| 0.125 | 0.124670|\n",
    "| 0.25  | 0.247234|\n",
    "| 0.375 | 0.364902|\n",
    "| 0.5   | 0.473112|\n",
    "| 0.625 | 0.563209|\n",
    "| 0.75  | 0.616193|\n",
    "| 0.875 | 0.579699|\n",
    "| 1.0   | 0.000000|"
   ]
  },
  {
   "cell_type": "code",
   "execution_count": 74,
   "id": "9cc8aef5-38b5-4543-b4de-e2c652d1048c",
   "metadata": {},
   "outputs": [],
   "source": [
    "import numpy as np\n",
    "import math\n",
    "import matplotlib.pyplot as plt\n",
    "import copy"
   ]
  },
  {
   "cell_type": "code",
   "execution_count": 16,
   "id": "d750f64a-927b-4f58-9180-e7b417414b79",
   "metadata": {},
   "outputs": [],
   "source": [
    "x = [0.0, 0.125, 0.25, 0.375, 0.5, 0.625, 0.75, 0.875, 1.0]\n",
    "f = [0.000000, 0.124670, 0.247234, 0.364902, 0.473112, 0.563209, 0.616193, 0.579699, 0.000000]"
   ]
  },
  {
   "cell_type": "markdown",
   "id": "5281cea0-54c3-4f58-aa30-f8165e62afb7",
   "metadata": {},
   "source": [
    "Буду использовать свой метод Гаусса и сплайн интерполяцию из 3й и 4й лаб"
   ]
  },
  {
   "cell_type": "code",
   "execution_count": 19,
   "id": "a0f6a016-ba99-4838-a117-ba70644a9c77",
   "metadata": {},
   "outputs": [],
   "source": [
    "# Вычисление 3й нормы вектора\n",
    "def norm_3(U):\n",
    "    r = 0\n",
    "    for i in range(len(U)):\n",
    "        r += U[i,0] * U[i,0]\n",
    "        \n",
    "    return np.sqrt(r)\n",
    "\n",
    "# Поменять строки\n",
    "def swap_rows(A, i, j):\n",
    "    A[[i, j], :] = A[[j, i], :]\n",
    "\n",
    "# Поменять столбцы\n",
    "def swap_columns(A, i, j):\n",
    "    A[:, [i, j]] = A[:, [j, i]]\n",
    "    \n",
    "#Функция для обмена значений\n",
    "def swap(a,b):\n",
    "    return b,a\n",
    "    \n",
    "# глобальный элемент А\n",
    "def find_main_el(A, iter):\n",
    "    size = A.shape[0]\n",
    "    main_el = A[iter,iter]\n",
    "    i_main = iter\n",
    "    j_main = iter\n",
    "\n",
    "    for i in range(size - iter): \n",
    "        for j in range(size - iter):\n",
    "            if abs(A[i + iter,j + iter]) > abs(main_el):\n",
    "                i_main = i + iter\n",
    "                j_main = j + iter\n",
    "                main_el = A[i_main,j_main]\n",
    "    return [i_main, j_main]\n",
    "\n",
    "def Gauss(a, f):\n",
    "    \n",
    "    A = copy.deepcopy(a)\n",
    "    F = copy.deepcopy(f)\n",
    "    \n",
    "    size = len(A)  # размеры матрицы \n",
    "    \n",
    "    X = np.arange(size) # Массив, чтобы запомнить порядок при смене строк и столбцов - пригодится в конце\n",
    "    U  = np.ones((size, 1)) # массив решений\n",
    "    result = np.ones((size, 1)) # Для ответа\n",
    "\n",
    "    # Прямой ход\n",
    "    for iter in range(size): \n",
    "        \n",
    "        main_ind = find_main_el(A,iter) # Rоординаты главного элемента\n",
    "        main_el = A[main_ind[0], main_ind[1]] # Сам главный элемент\n",
    "        \n",
    "        if(main_ind[0] - iter != 0): # Перестановка строк для главного элемента\n",
    "            swap_rows(A[iter:, iter:], 0, main_ind[0] - iter)\n",
    "            F[iter] = F[main_ind[0]] + F[iter]\n",
    "            F[main_ind[0]] = F[iter] - F[main_ind[0]]\n",
    "            F[iter] = F[iter] - F[main_ind[0]]\n",
    "            \n",
    "        if(main_ind[1] - iter != 0): # Перестановка столбцов для главного элемента\n",
    "            swap_columns(A, iter, main_ind[1])\n",
    "            # swap(X[iter], X[main_ind[1]])\n",
    "            X[iter] = X[main_ind[1]] + X[iter]\n",
    "            X[main_ind[1]] = X[iter] - X[main_ind[1]]\n",
    "            X[iter] = X[iter] - X[main_ind[1]]\n",
    "        \n",
    "        A[iter:, iter:][0] =  A[iter:, iter:][0] / main_el\n",
    "        F[iter] = F[iter] / main_el\n",
    "        \n",
    "        for i in range(size - iter - 1):\n",
    "            F[iter + i + 1] -= (F[iter]  * A[iter:, iter:][i + 1][0])\n",
    "            A[iter:, iter:][i + 1] -= (A[iter:, iter:][0] * A[iter:, iter:][i + 1][0])\n",
    "\n",
    "    # Так как алгоритм не доходит до нижнего углового элемента, делаем его 1\n",
    "    F[-1] /= A[-1, -1]\n",
    "    A[size - 1, size - 1] = 1\n",
    "    \n",
    "    # Обратный ход\n",
    "    for i in range(size-1, -1, -1):\n",
    "        U[i] = F[i]\n",
    "        for j in range(i + 1, size):\n",
    "            U[i] -= U[j] * A[i][j]\n",
    "\n",
    "    for i in range(size):\n",
    "        result[int(X[i])][0] = U[i][0]\n",
    "\n",
    "    return result"
   ]
  },
  {
   "cell_type": "code",
   "execution_count": 21,
   "id": "1fa4e557-39a0-46c4-a55d-6d05e20386c7",
   "metadata": {},
   "outputs": [],
   "source": [
    "def spline(x, f):\n",
    "    h = np.diff(x) # Можно было просто написать 10, т.к. в моём случае шаг одинаковый, но для общего случая так лучше\n",
    "    \n",
    "    # Составление матрицы и вектора правых частей для системы\n",
    "    n = len(x) - 1\n",
    "    A = np.zeros((n + 1, n + 1))\n",
    "    B = np.zeros((n + 1, 1))\n",
    "    \n",
    "    # Условия на второй производной в краевых точках\n",
    "    A[0, 0] = 1\n",
    "    A[n, n] = 1\n",
    "    \n",
    "    # Заполнение матрицы для внутренних точек\n",
    "    for i in range(1, n):\n",
    "        A[i, i - 1] = h[i - 1]\n",
    "        A[i, i] = 2 * (h[i - 1] + h[i])\n",
    "        A[i, i + 1] = h[i]\n",
    "        B[i] = 3 * ((f[i + 1] - f[i]) / h[i] - (f[i] - f[i - 1]) / h[i - 1])\n",
    "    \n",
    "    # Решение системы на коэффициенты c_k\n",
    "    c = Gauss(A, B)\n",
    "    \n",
    "    # Вычисление коэффициентов b_k и d_k\n",
    "    b = np.zeros(n)\n",
    "    d = np.zeros(n)\n",
    "    for i in range(n):\n",
    "        b[i] = (f[i + 1] - f[i]) / h[i] - h[i] * (2 * c[i][0] + c[i + 1][0]) / 3\n",
    "        d[i] = (c[i + 1][0] - c[i][0]) / (3 * h[i])\n",
    "        \n",
    "    return b, c, d\n",
    "\n",
    "# Построение сплайна\n",
    "b, c, d = spline(x, f)\n",
    "x_fine = np.linspace(x[0], x[-1], 500)\n",
    "y_fine = np.zeros_like(x_fine)\n",
    "    \n",
    "for i in range(len(x)-1):\n",
    "    mask = (x_fine >= x[i]) & (x_fine <= x[i + 1]) # Переменная mask нужна для того, чтобы понять, лежат ли текущие точки \n",
    "    dx = x_fine[mask] - x[i]                           # в данном интервале или нет\n",
    "    y_fine[mask] = (f[i] + b[i] * dx + c[i] * dx**2 + d[i] * dx**3) #dx - расстояние между текущими точками и левым концом интервала"
   ]
  },
  {
   "cell_type": "markdown",
   "id": "839b7b84-333e-4f2d-bbc8-298734666c37",
   "metadata": {},
   "source": [
    "**1) Метод трапеций + правило Рунге**"
   ]
  },
  {
   "cell_type": "code",
   "execution_count": 86,
   "id": "37542fe5-184f-46e3-9da5-a36aff536dc3",
   "metadata": {},
   "outputs": [],
   "source": [
    "h = (x[-1] - x[0]) / 8 # Сделаем равномерную сетку"
   ]
  },
  {
   "cell_type": "code",
   "execution_count": 88,
   "id": "27c2f1ac-4a8d-49f5-9976-5fb257568a30",
   "metadata": {},
   "outputs": [],
   "source": [
    "def trapez(x, f): # Метод трапеций\n",
    "    n = len(x) - 1\n",
    "    integral = 0.5 * h * (f[0] + 2 * np.sum(f[1:n]) + f[n])\n",
    "    return integral"
   ]
  },
  {
   "cell_type": "code",
   "execution_count": 90,
   "id": "48097654-fd80-4902-b5ee-8539deb57450",
   "metadata": {},
   "outputs": [],
   "source": [
    "def Runge(I_h, I_2h, p = 2):\n",
    "    return I_h + (I_h - I_2h) / (2**p - 1)"
   ]
  },
  {
   "cell_type": "code",
   "execution_count": 113,
   "id": "55624b35-e18c-4c6c-8c55-e0403674aca6",
   "metadata": {},
   "outputs": [
    {
     "name": "stdout",
     "output_type": "stream",
     "text": [
      "Интеграл методом трапеций: 0.371127\n",
      "Уточнённый интеграл с помощью правила Рунге:  0.368928\n"
     ]
    }
   ],
   "source": [
    "def trapez_Runge(x, f):\n",
    "    I_h = trapez(x, f)\n",
    "    I_2h = 0  # Для уточненного интеграла\n",
    "    \n",
    "    b, c, d = spline(x, f)\n",
    "    \n",
    "    # Интегрирование с половинным шагом\n",
    "    for i in range(len(x) - 1):\n",
    "        x_mid = (x[i] + x[i + 1]) / 2 # Середина интервала\n",
    "        dx = x_mid - x[i]\n",
    "        f_mid = f[i] + b[i] * dx + c[i] * dx**2 + d[i] * dx**3  # Используем кубический сплайн\n",
    "        \n",
    "        # Метод трапеций на половинном шаге\n",
    "        I_2h += 0.5 * (x_mid - x[i]) * (f[i] + f_mid)  # Левая половина\n",
    "        I_2h += 0.5 * (x[i + 1] - x_mid) * (f_mid + f[i + 1])  # Правая половина\n",
    "    \n",
    "    # Уточнение интеграла с использованием правила Рунге\n",
    "    return Runge(I_h, I_2h, p=2)\n",
    "\n",
    "I_trapez = float(trapez(x, f))\n",
    "I_trapez_Runge = trapez_Runge(x, f).item()\n",
    "\n",
    "print(\"Интеграл методом трапеций:\", round(I_trapez, 6))\n",
    "print(\"Уточнённый интеграл с помощью правила Рунге: \", round(I_trapez_Runge, 6))\n"
   ]
  },
  {
   "cell_type": "markdown",
   "id": "c875089d-1cec-40e7-8fd4-4c83d057dffa",
   "metadata": {},
   "source": [
    "**2) Метод Симпсона**"
   ]
  },
  {
   "cell_type": "markdown",
   "id": "fea1c08a-004b-4b01-b9e6-7ea615fa35ef",
   "metadata": {},
   "source": [
    "Мы взяли равномерную сетку и чётное количество интервалов, так что можем использовать метод Симпсона\n"
   ]
  },
  {
   "cell_type": "markdown",
   "id": "1a8e7cfe-42ca-4a9e-8b7d-454ea1c92a9f",
   "metadata": {},
   "source": [
    "\n",
    "$$I \\approx \\sum_{k=0}^{\\lfloor n/2 \\rfloor} \\frac{h_{2k}}{3} \\left( f(x_{2k}) + 4f(x_{2k+1}) + f(x_{2k+2}) \\right)$$"
   ]
  },
  {
   "cell_type": "code",
   "execution_count": 111,
   "id": "2e8fa794-13df-49f9-a6c3-8179ad2ae11a",
   "metadata": {},
   "outputs": [
    {
     "name": "stdout",
     "output_type": "stream",
     "text": [
      "Значение интеграла методом Симпсона: 0.383458\n"
     ]
    }
   ],
   "source": [
    "def Simpson(x, f):\n",
    "    n = len(x) - 1\n",
    "    if n % 2 == 1:\n",
    "        raise ValueError(\"Метод Симпсона требует четное количество отрезков.\")\n",
    "    integral = f[0] + f[-1]  # Начальные условия\n",
    "    \n",
    "    for i in range(1, n, 2):\n",
    "        integral += 4 * f[i]\n",
    "    for i in range(2, n-1, 2):\n",
    "        integral += 2 * f[i]\n",
    "    \n",
    "    integral *= h / 3\n",
    "    return integral\n",
    "\n",
    "I_Simpson = Simpson(x, f)\n",
    "print(\"Значение интеграла методом Симпсона:\", round(I_Simpson, 6))"
   ]
  },
  {
   "cell_type": "markdown",
   "id": "6db6dbf3-71ca-4467-85b6-ea39a1460fc0",
   "metadata": {},
   "source": [
    "Теперь методом Симпсона попробуем посчитать интеграл какой-нибудь быстро осциллирующей функции, например $ f(x) = \\sin(100x) \\cdot e^{-x}$"
   ]
  },
  {
   "cell_type": "code",
   "execution_count": 149,
   "id": "f1713250-0494-4b50-a4cb-5537c37d9183",
   "metadata": {},
   "outputs": [
    {
     "name": "stdout",
     "output_type": "stream",
     "text": [
      "Значение интеграла методом Симпсона: 0.006864\n"
     ]
    }
   ],
   "source": [
    "def function(x, k):\n",
    "    return np.exp(-x) * np.sin(k * x)\n",
    "\n",
    "def simpson_sin(x, f, k):\n",
    "    n = len(x) - 1 \n",
    "    if n % 2 == 1:\n",
    "       # Уменьшаем количество точек на 1, чтобы отрезков было четное количество\n",
    "        x = x[:-1]\n",
    "        n -= 1\n",
    "    \n",
    "    h = (x[-1] - x[0]) / n  # Шаг сетки\n",
    "    integral = f(x[0], k) + f(x[-1], k)  # Начальные условия\n",
    "    \n",
    "    # Суммирование четных и нечетных индексов\n",
    "    for i in range(1, n, 2):\n",
    "        integral += 4 * f(x[i], k)\n",
    "    for i in range(2, n-1, 2):\n",
    "        integral += 2 * f(x[i], k)\n",
    "    \n",
    "    integral *= h / 3\n",
    "    return integral\n",
    "\n",
    "k = 100\n",
    "x = np.linspace(0, 1, 10000)  # Сетка значений от 0 до 1\n",
    "\n",
    "# Вычисление численного интеграла\n",
    "I_simpson_sin = simpson_sin(x, function, k)\n",
    "print(\"Значение интеграла методом Симпсона:\", round(I_simpson_sin, 6))"
   ]
  },
  {
   "cell_type": "code",
   "execution_count": null,
   "id": "986bf78b-f32c-4a92-b280-879f947a81c8",
   "metadata": {},
   "outputs": [],
   "source": []
  }
 ],
 "metadata": {
  "kernelspec": {
   "display_name": "Python 3 (ipykernel)",
   "language": "python",
   "name": "python3"
  },
  "language_info": {
   "codemirror_mode": {
    "name": "ipython",
    "version": 3
   },
   "file_extension": ".py",
   "mimetype": "text/x-python",
   "name": "python",
   "nbconvert_exporter": "python",
   "pygments_lexer": "ipython3",
   "version": "3.12.4"
  }
 },
 "nbformat": 4,
 "nbformat_minor": 5
}
